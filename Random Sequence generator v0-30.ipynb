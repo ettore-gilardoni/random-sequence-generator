{
 "cells": [
  {
   "cell_type": "code",
   "execution_count": 1,
   "metadata": {},
   "outputs": [],
   "source": [
    "import pandas as pd\n",
    "import random"
   ]
  },
  {
   "cell_type": "code",
   "execution_count": 102,
   "metadata": {},
   "outputs": [
    {
     "name": "stdout",
     "output_type": "stream",
     "text": [
      "Insert the address of the autosampler position file with tab as space inbetween positions (.txt): lista_comments.txt\n"
     ]
    }
   ],
   "source": [
    "position = input ('Insert the address of the \"autosampler position file\" with \"tab\" as space inbetween positions (.txt): ')\n",
    "# importing txt file with the available autosample position as df\n",
    "# name of file = lista.txt\n",
    "df = pd.read_csv(position, sep ='\\t',)\n",
    "\n",
    "#10-21 you can load any file you want, but still \\t as separation and .txt as format"
   ]
  },
  {
   "cell_type": "code",
   "execution_count": 103,
   "metadata": {},
   "outputs": [
    {
     "data": {
      "text/html": [
       "<div>\n",
       "<style scoped>\n",
       "    .dataframe tbody tr th:only-of-type {\n",
       "        vertical-align: middle;\n",
       "    }\n",
       "\n",
       "    .dataframe tbody tr th {\n",
       "        vertical-align: top;\n",
       "    }\n",
       "\n",
       "    .dataframe thead th {\n",
       "        text-align: right;\n",
       "    }\n",
       "</style>\n",
       "<table border=\"1\" class=\"dataframe\">\n",
       "  <thead>\n",
       "    <tr style=\"text-align: right;\">\n",
       "      <th></th>\n",
       "      <th>F1-P01</th>\n",
       "      <th>F1-P02</th>\n",
       "      <th>F1-P03</th>\n",
       "      <th>F1-P04</th>\n",
       "      <th>F1-P05</th>\n",
       "      <th>F1-P06</th>\n",
       "      <th>F1-P07</th>\n",
       "      <th>F1-P08</th>\n",
       "      <th>F1-P09</th>\n",
       "      <th>F1-P10</th>\n",
       "      <th>F1-P11</th>\n",
       "      <th>F1-P12</th>\n",
       "      <th>F1-P13</th>\n",
       "      <th>F1-P14</th>\n",
       "    </tr>\n",
       "  </thead>\n",
       "  <tbody>\n",
       "    <tr>\n",
       "      <th>0</th>\n",
       "      <td>Mol1µM</td>\n",
       "      <td>Mol1-2µM</td>\n",
       "      <td>Mol10µM</td>\n",
       "      <td>Mol10-2µM</td>\n",
       "      <td>Mol15µM</td>\n",
       "      <td>Mol15-2µM</td>\n",
       "      <td>Mol20µM</td>\n",
       "      <td>Mol20-2µM</td>\n",
       "      <td>Mol25µM</td>\n",
       "      <td>Mol25-2µM</td>\n",
       "      <td>Mol30µM</td>\n",
       "      <td>Mol30-2µM</td>\n",
       "      <td>Mol35µM</td>\n",
       "      <td>Mol35-2µM</td>\n",
       "    </tr>\n",
       "  </tbody>\n",
       "</table>\n",
       "</div>"
      ],
      "text/plain": [
       "   F1-P01    F1-P02   F1-P03     F1-P04   F1-P05     F1-P06   F1-P07  \\\n",
       "0  Mol1µM  Mol1-2µM  Mol10µM  Mol10-2µM  Mol15µM  Mol15-2µM  Mol20µM   \n",
       "\n",
       "      F1-P08   F1-P09     F1-P10   F1-P11     F1-P12   F1-P13     F1-P14  \n",
       "0  Mol20-2µM  Mol25µM  Mol25-2µM  Mol30µM  Mol30-2µM  Mol35µM  Mol35-2µM  "
      ]
     },
     "execution_count": 103,
     "metadata": {},
     "output_type": "execute_result"
    }
   ],
   "source": [
    "df"
   ]
  },
  {
   "cell_type": "code",
   "execution_count": 104,
   "metadata": {},
   "outputs": [],
   "source": [
    "#create a dictionary to keep connected position with any names related (e.g. sample name, comment, method)\n",
    "sample_name = df.to_dict()"
   ]
  },
  {
   "cell_type": "code",
   "execution_count": 105,
   "metadata": {},
   "outputs": [
    {
     "data": {
      "text/plain": [
       "{'F1-P01': {0: 'Mol1µM'},\n",
       " 'F1-P02': {0: 'Mol1-2µM'},\n",
       " 'F1-P03': {0: 'Mol10µM'},\n",
       " 'F1-P04': {0: 'Mol10-2µM'},\n",
       " 'F1-P05': {0: 'Mol15µM'},\n",
       " 'F1-P06': {0: 'Mol15-2µM'},\n",
       " 'F1-P07': {0: 'Mol20µM'},\n",
       " 'F1-P08': {0: 'Mol20-2µM'},\n",
       " 'F1-P09': {0: 'Mol25µM'},\n",
       " 'F1-P10': {0: 'Mol25-2µM'},\n",
       " 'F1-P11': {0: 'Mol30µM'},\n",
       " 'F1-P12': {0: 'Mol30-2µM'},\n",
       " 'F1-P13': {0: 'Mol35µM'},\n",
       " 'F1-P14': {0: 'Mol35-2µM'}}"
      ]
     },
     "execution_count": 105,
     "metadata": {},
     "output_type": "execute_result"
    }
   ],
   "source": [
    "sample_name"
   ]
  },
  {
   "cell_type": "code",
   "execution_count": 107,
   "metadata": {},
   "outputs": [
    {
     "name": "stdout",
     "output_type": "stream",
     "text": [
      "['F1-P01', 'F1-P02', 'F1-P03', 'F1-P04', 'F1-P05', 'F1-P06', 'F1-P07', 'F1-P08', 'F1-P09', 'F1-P10', 'F1-P11', 'F1-P12', 'F1-P13', 'F1-P14']\n"
     ]
    }
   ],
   "source": [
    "#trasforming dictionary keys (autosampler positions) in list\n",
    "position = []\n",
    "\n",
    "for key in sample_name:\n",
    "    position.append(key)\n",
    "print(position)"
   ]
  },
  {
   "cell_type": "code",
   "execution_count": 109,
   "metadata": {},
   "outputs": [
    {
     "name": "stdout",
     "output_type": "stream",
     "text": [
      "Do you want to add washes to your seuence (y/n)? n\n",
      "\n",
      "DATA INSERTED:\n",
      "Add Wash to the sequence: \"NO\"\n"
     ]
    }
   ],
   "source": [
    "#INFORMATION REGARDING THE ADDITION OF WASHES TO THE SEQUENCE\n",
    "#Asking if python has to add washes in the sequence beside randomizing the order of injection\n",
    "wash = input ('Do you want to add washes to your seuence (y/n)? ')\n",
    "\n",
    "# While loop to check that the data inserted are correct if not re-insert data\n",
    "if wash.lower().startswith('y'):\n",
    "    procede = 'n'\n",
    "    while procede.lower() != 'y':\n",
    "        if procede == 'yes':\n",
    "            break\n",
    "        else:\n",
    "            wash_position = input ('What is the position of the wash in the autosampler?: ')\n",
    "# Asks how many time in a row a washe has to be repeted\n",
    "            num_wash = input ('How many repetion of wash do you want?: (insert an integer) ')\n",
    "# Check that an integer is insert, if not reask the question\n",
    "            while num_wash.isdigit() == False:\n",
    "                num_wash = input ('How many repetion of wash do you want?: (insert an integer) ')\n",
    "# Asks how many sample in row you want to send before sending the set of washes\n",
    "            bracketing = input ('After how many samples you want a (set of) wash?: ')\n",
    "    # check that an integer is insert, if not reask the question\n",
    "            while bracketing.isdigit() == False:\n",
    "                bracketing = input ('How many repetion of wash do you want?: (insert an integer) ')\n",
    "            print ('\\nDATA INSERTED:\\nAdd Wash to the sequence: \"YES\"','\\nWash position:', wash_position, '\\nNumber of washes in row =', num_wash,'\\nNumber of samples in a row =',bracketing)\n",
    "            procede = input('Check if the data inserted are correct (y/n): ')\n",
    "else:\n",
    "    print ('\\nDATA INSERTED:\\nAdd Wash to the sequence: \"NO\"')\n",
    "\n",
    "#07-05 IMPROVED"
   ]
  },
  {
   "cell_type": "code",
   "execution_count": 110,
   "metadata": {},
   "outputs": [],
   "source": [
    "#wash_adder is the function that will modify the random lists of injection created and add the washes where it has been defined from the user\n",
    "# wash_position = position autosampler of wash vial (value tu insert in the list)\n",
    "# num_wash = repetition of wash each time\n",
    "# bracketing = n° samples inbetween a set of wash\n",
    "#always add a wash at the beginning\n",
    "def wash_adder(pos):\n",
    "    new_sequence = []\n",
    "# add the first wash\n",
    "    new_sequence.append(wash_position)\n",
    "# split the sequence at the bracketing number and reconsitute in the final list adding the wash_num defined based on a while loop\n",
    "    while pos:\n",
    "        for coordinate in pos[0:int(bracketing)]:\n",
    "            new_sequence.append(coordinate)\n",
    "            pos.remove(coordinate)\n",
    "        for num in range(int(num_wash)):\n",
    "            new_sequence.append(wash_position)\n",
    "    return print(new_sequence)\n",
    "\n",
    "##10-21 it works"
   ]
  },
  {
   "cell_type": "code",
   "execution_count": 111,
   "metadata": {},
   "outputs": [
    {
     "name": "stdout",
     "output_type": "stream",
     "text": [
      "['F1-P13', 'F1-P06', 'F1-P09', 'F1-P14', 'F1-P01', 'F1-P05', 'F1-P11', 'F1-P12', 'F1-P02', 'F1-P10', 'F1-P04', 'F1-P08', 'F1-P07', 'F1-P03']\n"
     ]
    }
   ],
   "source": [
    "#THIS CODE GIVES BACK A STRING OUTPUT\n",
    "#create sequence string and list necesary for the code\n",
    "\n",
    "#if we have to add washes:\n",
    "if wash.lower().startswith('y'):\n",
    "    list_sequence = []\n",
    "#In a while loop, choose randomply a position and add it to the sequence list.\n",
    "    while position:\n",
    "        word = random.choice(position)\n",
    "        list_sequence.append(word)\n",
    "#Remove the position choosen from the list in order to continue with the random position identification.\n",
    "        position.remove(word)\n",
    "    wash_adder(list_sequence)\n",
    "else:\n",
    "    sequence = []\n",
    "#In a while loop, choose randomply a position and add it to the sequence list.\n",
    "    while position:\n",
    "        word = random.choice(position)\n",
    "        sequence.append(word)\n",
    "#Remove the position choosen from the list in order to continue with the random position identification.\n",
    "        position.remove(word)\n",
    "#print the seqeunce list\n",
    "    print(sequence)\n",
    "\n",
    "## 10-21 it works!"
   ]
  },
  {
   "cell_type": "code",
   "execution_count": 112,
   "metadata": {},
   "outputs": [],
   "source": [
    "#create a new dictionary with the random order of the position connected with the correct value\n",
    "d = {}\n",
    "key = range(len(sequence))\n",
    "for i in key:\n",
    "    for word in sequence:\n",
    "        d[word] = sample_name[word]"
   ]
  },
  {
   "cell_type": "code",
   "execution_count": 113,
   "metadata": {},
   "outputs": [],
   "source": [
    "#tranform the dictonary to a dataframe\n",
    "comments = pd.DataFrame.from_dict(d)"
   ]
  },
  {
   "cell_type": "code",
   "execution_count": 115,
   "metadata": {},
   "outputs": [],
   "source": [
    "#print out the dataframe as CSV\n",
    "comments.to_csv('random_sequence.csv')"
   ]
  },
  {
   "cell_type": "code",
   "execution_count": null,
   "metadata": {},
   "outputs": [],
   "source": [
    "##10/21/2020\n",
    "#It's possible to upload a file with Positions and SampleName\n",
    "#it randomized the position and print out a CSV with position-SampleName randomized"
   ]
  },
  {
   "cell_type": "code",
   "execution_count": null,
   "metadata": {},
   "outputs": [],
   "source": [
    "#to implement:\n",
    "#Choosing name for the output file\n",
    "#make it working if I add wash, because the information is not in the dictionaty\n",
    "#modify in a way that it's not necessary to write .txt in the input for uploading a file\n",
    "#make it works if someone add only the position without any other name (e.g. sample name, method, comments)\n",
    "#make it works if someone add more other names (e.g. sample name, method, comments)"
   ]
  }
 ],
 "metadata": {
  "kernelspec": {
   "display_name": "Python 3",
   "language": "python",
   "name": "python3"
  },
  "language_info": {
   "codemirror_mode": {
    "name": "ipython",
    "version": 3
   },
   "file_extension": ".py",
   "mimetype": "text/x-python",
   "name": "python",
   "nbconvert_exporter": "python",
   "pygments_lexer": "ipython3",
   "version": "3.7.3"
  }
 },
 "nbformat": 4,
 "nbformat_minor": 2
}
