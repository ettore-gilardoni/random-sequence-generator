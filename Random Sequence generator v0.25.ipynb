{
 "cells": [
  {
   "cell_type": "code",
   "execution_count": 1,
   "metadata": {},
   "outputs": [],
   "source": [
    "import pandas as pd\n",
    "import random"
   ]
  },
  {
   "cell_type": "code",
   "execution_count": null,
   "metadata": {},
   "outputs": [],
   "source": [
    "position = input ('Insert the address of the autosampler position file with tab as space inbetween positions (.txt): ')\n",
    "# importing txt file with the available autosample position as df\n",
    "# name of file = lista.txt\n",
    "df = pd.read_csv(position, sep ='\\t')\n",
    "\n",
    "#07-05 IMPROVED you can load any file you want, but still \\t as separation and .txt as format"
   ]
  },
  {
   "cell_type": "code",
   "execution_count": 3,
   "metadata": {},
   "outputs": [
    {
     "data": {
      "text/html": [
       "<div>\n",
       "<style scoped>\n",
       "    .dataframe tbody tr th:only-of-type {\n",
       "        vertical-align: middle;\n",
       "    }\n",
       "\n",
       "    .dataframe tbody tr th {\n",
       "        vertical-align: top;\n",
       "    }\n",
       "\n",
       "    .dataframe thead th {\n",
       "        text-align: right;\n",
       "    }\n",
       "</style>\n",
       "<table border=\"1\" class=\"dataframe\">\n",
       "  <thead>\n",
       "    <tr style=\"text-align: right;\">\n",
       "      <th></th>\n",
       "      <th>F1-P01</th>\n",
       "      <th>F1-P02</th>\n",
       "      <th>F1-P03</th>\n",
       "      <th>F1-P04</th>\n",
       "      <th>F1-P05</th>\n",
       "      <th>F1-P06</th>\n",
       "      <th>F1-P07</th>\n",
       "      <th>F1-P08</th>\n",
       "      <th>F1-P09</th>\n",
       "      <th>F1-P10</th>\n",
       "      <th>F1-P11</th>\n",
       "      <th>F1-P12</th>\n",
       "      <th>F1-P13</th>\n",
       "      <th>F1-P14</th>\n",
       "    </tr>\n",
       "  </thead>\n",
       "  <tbody>\n",
       "  </tbody>\n",
       "</table>\n",
       "</div>"
      ],
      "text/plain": [
       "Empty DataFrame\n",
       "Columns: [F1-P01, F1-P02, F1-P03, F1-P04, F1-P05, F1-P06, F1-P07, F1-P08, F1-P09, F1-P10, F1-P11, F1-P12, F1-P13, F1-P14]\n",
       "Index: []"
      ]
     },
     "execution_count": 3,
     "metadata": {},
     "output_type": "execute_result"
    }
   ],
   "source": [
    "df"
   ]
  },
  {
   "cell_type": "code",
   "execution_count": 8,
   "metadata": {},
   "outputs": [
    {
     "name": "stdout",
     "output_type": "stream",
     "text": [
      "['F1-P01', 'F1-P02', 'F1-P03', 'F1-P04', 'F1-P05', 'F1-P06', 'F1-P07', 'F1-P08', 'F1-P09', 'F1-P10', 'F1-P11', 'F1-P12', 'F1-P13', 'F1-P14']\n"
     ]
    }
   ],
   "source": [
    "#trasforming df in list\n",
    "#the df is a table, where the object i am interested are in are the column headings\n",
    "position = []\n",
    "\n",
    "for word in df:\n",
    "    position.append(word)\n",
    "print(position)"
   ]
  },
  {
   "cell_type": "code",
   "execution_count": 5,
   "metadata": {},
   "outputs": [
    {
     "name": "stdout",
     "output_type": "stream",
     "text": [
      "Do you want to add washes to your seuence (y/n)? y\n",
      "What is the position of the wash in the autosampler?: P1-E1\n",
      "How many repetion of wash do you want?: (insert an integer) 1\n",
      "After how many samples you want a (set of) wash?: 3\n",
      "\n",
      "DATA INSERTED:\n",
      "Add Wash to the sequence: \"YES\" \n",
      "Wash position: P1-E1 \n",
      "Number of washes in row = 1 \n",
      "Number of samples in a row = 3\n",
      "Check if the data inserted are correct (y/n): y\n"
     ]
    }
   ],
   "source": [
    "#INFORMATION REGARDING THE ADDITION OF WASHES TO THE SEQUENCE\n",
    "#Asking if python has to add washes in the sequence beside randomizing the order of injection\n",
    "wash = input ('Do you want to add washes to your seuence (y/n)? ')\n",
    "\n",
    "# While loop to check that the data inserted are correct if not re-insert data\n",
    "if wash.lower().startswith('y'):\n",
    "    procede = 'n'\n",
    "    while procede.lower() != 'y':\n",
    "        if procede == 'yes':\n",
    "            break\n",
    "        else:\n",
    "            wash_position = input ('What is the position of the wash in the autosampler?: ')\n",
    "# Asks how many time in a row a washe has to be repeted\n",
    "            num_wash = input ('How many repetion of wash do you want?: (insert an integer) ')\n",
    "# Check that an integer is insert, if not reask the question\n",
    "            while num_wash.isdigit() == False:\n",
    "                num_wash = input ('How many repetion of wash do you want?: (insert an integer) ')\n",
    "# Asks how many sample in row you want to send before sending the set of washes\n",
    "            bracketing = input ('After how many samples you want a (set of) wash?: ')\n",
    "    # check that an integer is insert, if not reask the question\n",
    "            while bracketing.isdigit() == False:\n",
    "                bracketing = input ('How many repetion of wash do you want?: (insert an integer) ')\n",
    "            print ('\\nDATA INSERTED:\\nAdd Wash to the sequence: \"YES\"','\\nWash position:', wash_position, '\\nNumber of washes in row =', num_wash,'\\nNumber of samples in a row =',bracketing)\n",
    "            procede = input('Check if the data inserted are correct (y/n): ')\n",
    "else:\n",
    "    print ('\\nDATA INSERTED:\\nAdd Wash to the sequence: \"NO\"')\n",
    "\n",
    "#07-05 IMPROVED"
   ]
  },
  {
   "cell_type": "code",
   "execution_count": 6,
   "metadata": {},
   "outputs": [],
   "source": [
    "#wash_adder is the function that will modify the random lists of injection created and add the washes where it has been defined from the user\n",
    "# wash_position = position autosampler of wash vial (value tu insert in the list)\n",
    "# num_wash = repetition of wash each time\n",
    "# bracketing = n° samples inbetween a set of wash\n",
    "#always add a wash at the beginning\n",
    "def wash_adder(pos):\n",
    "    sequence = ('')\n",
    "    new_sequence = []\n",
    "# add the first wash\n",
    "    new_sequence.append(wash_position)\n",
    "# split the sequence at the bracketing number and reconsitute in the final list adding the wash_num defined based on a while loop\n",
    "    while pos:\n",
    "        for coordinate in pos[0:int(bracketing)]:\n",
    "            new_sequence.append(coordinate)\n",
    "            pos.remove(coordinate)\n",
    "        for num in range(int(num_wash)):\n",
    "            new_sequence.append(wash_position)\n",
    "# transform the sequence in a string\n",
    "    for obj in new_sequence:\n",
    "        sequence += (str(obj) + '\\n')\n",
    "    return print(sequence)\n",
    "\n",
    "##07-05 program Wash_adder now works!!!"
   ]
  },
  {
   "cell_type": "code",
   "execution_count": 9,
   "metadata": {},
   "outputs": [
    {
     "name": "stdout",
     "output_type": "stream",
     "text": [
      "P1-E1\n",
      "F1-P10\n",
      "F1-P11\n",
      "F1-P07\n",
      "P1-E1\n",
      "F1-P01\n",
      "F1-P06\n",
      "F1-P12\n",
      "P1-E1\n",
      "F1-P03\n",
      "F1-P13\n",
      "F1-P14\n",
      "P1-E1\n",
      "F1-P04\n",
      "F1-P08\n",
      "F1-P09\n",
      "P1-E1\n",
      "F1-P05\n",
      "F1-P02\n",
      "P1-E1\n",
      "\n"
     ]
    }
   ],
   "source": [
    "#THIS CODE GIVES BACK A STRING OUTPUT\n",
    "#create sequence string and list necesary for the code\n",
    "\n",
    "#if we have to add washes:\n",
    "if wash.lower().startswith('y'):\n",
    "    list_sequence = []\n",
    "#In a while loop, choose randomply a position and add it to the sequence list.\n",
    "    while position:\n",
    "        word = random.choice(position)\n",
    "        list_sequence.append(word)\n",
    "#Remove the position choosen from the list in order to continue with the random position identification.\n",
    "        position.remove(word)\n",
    "    wash_adder(list_sequence)\n",
    "else:\n",
    "    sequence = ('')\n",
    "#In a while loop, choose randomply a position and add it to the sequence string.\n",
    "    while position:\n",
    "        word = random.choice(position)\n",
    "        sequence += (word +'\\n')\n",
    "#Remove the position choosen from the list in order to continue with the random position identification.\n",
    "        position.remove(word)\n",
    "#print the seqeunce string\n",
    "    print(sequence)\n",
    "\n",
    "## 07-05 it works!"
   ]
  },
  {
   "cell_type": "code",
   "execution_count": null,
   "metadata": {},
   "outputs": [],
   "source": []
  }
 ],
 "metadata": {
  "kernelspec": {
   "display_name": "Python 3",
   "language": "python",
   "name": "python3"
  },
  "language_info": {
   "codemirror_mode": {
    "name": "ipython",
    "version": 3
   },
   "file_extension": ".py",
   "mimetype": "text/x-python",
   "name": "python",
   "nbconvert_exporter": "python",
   "pygments_lexer": "ipython3",
   "version": "3.7.3"
  }
 },
 "nbformat": 4,
 "nbformat_minor": 2
}
